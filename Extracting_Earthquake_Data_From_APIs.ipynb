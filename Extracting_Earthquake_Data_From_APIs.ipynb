{
  "nbformat": 4,
  "nbformat_minor": 0,
  "metadata": {
    "colab": {
      "provenance": []
    },
    "kernelspec": {
      "name": "python3",
      "display_name": "Python 3"
    },
    "language_info": {
      "name": "python"
    }
  },
  "cells": [
    {
      "cell_type": "code",
      "source": [
        "import requests\n",
        "import pandas as pd\n",
        "from datetime import datetime , timedelta\n",
        "import os"
      ],
      "metadata": {
        "id": "bVXf5bAQ_cQm"
      },
      "execution_count": 5,
      "outputs": []
    },
    {
      "cell_type": "code",
      "execution_count": 8,
      "metadata": {
        "id": "nToykrC9-5A2"
      },
      "outputs": [],
      "source": [
        "def earth_quake_data():\n",
        "  today_date = datetime.today()\n",
        "  date_15_days_ago = today_date - timedelta(days=15)\n",
        "  start_time = date_15_days_ago.strftime(\"%Y-%m-%d\")\n",
        "  end_time = today_date.strftime(\"%Y-%m-%d\")\n",
        "\n",
        "  #define url\n",
        "\n",
        "  URL = f'https://earthquake.usgs.gov/fdsnws/event/1/query?format=geojson&starttime={start_time}&endtime={end_time}'\n",
        "\n",
        "  response = requests.get(URL)\n",
        "\n",
        "  if response.status_code == 200:\n",
        "    data = response.json()\n",
        "\n",
        "    features = data['features']\n",
        "    earthquakes = []\n",
        "\n",
        "    date = today_date.strftime(\"%Y-%m-%d\")\n",
        "\n",
        "    filename = 'data.csv'\n",
        "\n",
        "    for feature in features:\n",
        "      properties = feature['properties']\n",
        "      geometry = feature['geometry']\n",
        "      earthquake = {\n",
        "          'time' : properties['time'],\n",
        "          'place' : properties['place'],\n",
        "          'type' : properties['type'],\n",
        "           'magnitude' : properties['mag'],\n",
        "          'latitude' : geometry['coordinates'][0],\n",
        "          'longitude' : geometry['coordinates'][1],\n",
        "          'depth':geometry['coordinates'][2],\n",
        "          'file_name':filename\n",
        "      }\n",
        "\n",
        "      earthquakes.append(earthquake)\n",
        "\n",
        "    df = pd.DataFrame(earthquakes)\n",
        "    df.to_csv('earthquakdata.csv')"
      ]
    },
    {
      "cell_type": "code",
      "source": [
        " earth_quake_data()"
      ],
      "metadata": {
        "id": "VI4aTptw_JXg"
      },
      "execution_count": 9,
      "outputs": []
    },
    {
      "cell_type": "code",
      "source": [],
      "metadata": {
        "id": "4sqO6K6a_TWR"
      },
      "execution_count": 9,
      "outputs": []
    }
  ]
}